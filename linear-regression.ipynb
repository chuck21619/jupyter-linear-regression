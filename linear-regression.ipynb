{
 "cells": [
  {
   "cell_type": "code",
   "execution_count": 4,
   "id": "92754e84-dac2-4e65-9c27-d7e7e6e45a9d",
   "metadata": {},
   "outputs": [],
   "source": [
    "import numpy as np\n",
    "import matplotlib.pyplot as plt\n",
    "import sympy as sp"
   ]
  },
  {
   "cell_type": "code",
   "execution_count": 5,
   "id": "e94d4c0f",
   "metadata": {},
   "outputs": [],
   "source": [
    "house_size = np.array([12.0, 14.0, 20.0, 20.0, 22.0, 30.0, 31.0, 40.0, 41.0])\n",
    "house_price = np.array([90.0, 89.0, 92.0, 90.0, 100.0, 110.0, 105.0, 150.0, 140.0])"
   ]
  },
  {
   "cell_type": "code",
   "execution_count": 6,
   "id": "0f1fb540",
   "metadata": {},
   "outputs": [],
   "source": [
    "def compute_cost(x, y, w, b):\n",
    "    m = x.shape[0]\n",
    "    cost = 0\n",
    "\n",
    "    for i in range(m):\n",
    "        yHat = w * x[i] + b\n",
    "        cost += (yHat - y[i])**2\n",
    "\n",
    "    total_cost = (1/2*m)*cost\n",
    "    return total_cost"
   ]
  },
  {
   "cell_type": "code",
   "execution_count": 7,
   "id": "3333f10e",
   "metadata": {},
   "outputs": [],
   "source": [
    "def compute_gradient(x, y, w, b):\n",
    "    m = x.shape[0]\n",
    "\n",
    "    dj_dw = 0\n",
    "    dj_db = 0\n",
    "    for i in range(m):\n",
    "        cost = (((w*x[i]) + b) - y[i])\n",
    "        dj_dw += cost * x[i]\n",
    "        dj_db += cost\n",
    "\n",
    "    dj_dw /= m\n",
    "    dj_db /= m\n",
    "    \n",
    "    return dj_dw, dj_db"
   ]
  },
  {
   "cell_type": "code",
   "execution_count": 8,
   "id": "08a4389c",
   "metadata": {},
   "outputs": [
    {
     "data": {
      "text/plain": [
       "<matplotlib.collections.PathCollection at 0x7f672ed445e0>"
      ]
     },
     "execution_count": 8,
     "metadata": {},
     "output_type": "execute_result"
    },
    {
     "data": {
      "image/png": "[encoded data removed]",
      "text/plain": [
       "<Figure size 432x288 with 1 Axes>"
      ]
     },
     "metadata": {
      "needs_background": "light"
     },
     "output_type": "display_data"
    }
   ],
   "source": [
    "plt.scatter(house_size, house_price)"
   ]
  },
  {
   "cell_type": "code",
   "execution_count": 9,
   "id": "6183128b",
   "metadata": {},
   "outputs": [],
   "source": [
    "def gradient_descent(x, y, w_in, b_in, alpha, num_iters, cost_function, gradient_function):\n",
    "    j_history = []\n",
    "    p_history = []\n",
    "    w = w_in\n",
    "    b = b_in\n",
    "\n",
    "    for i in range(num_iters):\n",
    "        dj_dw, dj_db = gradient_function(x, y, w, b)\n",
    "        w = w - alpha*dj_dw\n",
    "        b = b - alpha*dj_db\n",
    "\n",
    "        j_history.append(cost_function(x, y, w, b))\n",
    "        p_history.append([w,b])\n",
    "        \n",
    "        if i % 10000 == 0:\n",
    "            print(f\"iteration {i}: cost {j_history[-1]:0.2e} dj_dw:{dj_dw:0.3e}, dj_db:{dj_db:0.3e}, w:{w:0.3e}, b:{b:0.5e}\")\n",
    "\n",
    "    return w, b, j_history, p_history"
   ]
  },
  {
   "cell_type": "code",
   "execution_count": 10,
   "id": "b1028e55",
   "metadata": {},
   "outputs": [
    {
     "name": "stdout",
     "output_type": "stream",
     "text": [
      "iteration 0: cost 4.79e+04 dj_dw:-2.940e+03, dj_db:-1.073e+02, w:2.940e+00, b:1.07333e-01\n",
      "iteration 10000: cost 3.83e+03 dj_dw:6.745e-02, dj_db:-1.984e+00, w:2.512e+00, b:4.11549e+01\n",
      "iteration 20000: cost 2.71e+03 dj_dw:1.818e-02, dj_db:-5.346e-01, w:2.136e+00, b:5.22066e+01\n",
      "iteration 30000: cost 2.62e+03 dj_dw:4.898e-03, dj_db:-1.440e-01, w:2.035e+00, b:5.51845e+01\n",
      "iteration 40000: cost 2.62e+03 dj_dw:1.320e-03, dj_db:-3.882e-02, w:2.008e+00, b:5.59870e+01\n",
      "iteration 50000: cost 2.62e+03 dj_dw:3.556e-04, dj_db:-1.046e-02, w:2.000e+00, b:5.62032e+01\n",
      "iteration 60000: cost 2.62e+03 dj_dw:9.582e-05, dj_db:-2.818e-03, w:1.998e+00, b:5.62615e+01\n",
      "iteration 70000: cost 2.62e+03 dj_dw:2.582e-05, dj_db:-7.594e-04, w:1.998e+00, b:5.62772e+01\n",
      "iteration 80000: cost 2.62e+03 dj_dw:6.957e-06, dj_db:-2.046e-04, w:1.998e+00, b:5.62814e+01\n",
      "iteration 90000: cost 2.62e+03 dj_dw:1.875e-06, dj_db:-5.514e-05, w:1.998e+00, b:5.62825e+01\n",
      "(w,b) found by gradient descent: (  1.9976, 56.2828)\n",
      "w:1.9976270698007166, b:56.28284891423773\n"
     ]
    }
   ],
   "source": [
    "w_init = 0\n",
    "b_init = 0\n",
    "iterations = 100000\n",
    "tmp_alpha = 0.001\n",
    "\n",
    "w_final, b_final, J_hist, p_hist = gradient_descent(house_size ,house_price, w_init, b_init, tmp_alpha, \n",
    "                                                    iterations, compute_cost, compute_gradient)\n",
    "print(f\"(w,b) found by gradient descent: ({w_final:8.4f},{b_final:8.4f})\")\n",
    "print(f\"w:{w_final}, b:{b_final}\")"
   ]
  },
  {
   "cell_type": "code",
   "execution_count": 11,
   "id": "1372f526",
   "metadata": {},
   "outputs": [
    {
     "data": {
      "text/plain": [
       "<matplotlib.collections.PathCollection at 0x7f672bb5e800>"
      ]
     },
     "execution_count": 11,
     "metadata": {},
     "output_type": "execute_result"
    },
    {
     "data": {
      "image/png": "[encoded data removed]",
      "text/plain": [
       "<Figure size 432x288 with 1 Axes>"
      ]
     },
     "metadata": {
      "needs_background": "light"
     },
     "output_type": "display_data"
    }
   ],
   "source": [
    "def linear_func(m, x, b):\n",
    "    return m*x + b\n",
    "\n",
    "yhats = linear_func(w_final, house_size, b_final)\n",
    "plt.plot(house_size, yhats)\n",
    "plt.scatter(house_size, house_price)"
   ]
  },
  {
   "cell_type": "code",
   "execution_count": null,
   "id": "55d01bc7",
   "metadata": {},
   "outputs": [],
   "source": []
  }
 ],
 "metadata": {
  "kernelspec": {
   "display_name": "Python 3",
   "language": "python",
   "name": "python3"
  },
  "language_info": {
   "codemirror_mode": {
    "name": "ipython",
    "version": 3
   },
   "file_extension": ".py",
   "mimetype": "text/x-python",
   "name": "python",
   "nbconvert_exporter": "python",
   "pygments_lexer": "ipython3",
   "version": "3.10.12"
  }
 },
 "nbformat": 4,
 "nbformat_minor": 5
}
