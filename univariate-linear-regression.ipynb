{
 "cells": [
  {
   "cell_type": "code",
   "execution_count": 20,
   "id": "92754e84-dac2-4e65-9c27-d7e7e6e45a9d",
   "metadata": {},
   "outputs": [],
   "source": [
    "import numpy as np\n",
    "import matplotlib.pyplot as plt\n",
    "import sympy as sp"
   ]
  },
  {
   "cell_type": "code",
   "execution_count": 21,
   "id": "3333f10e",
   "metadata": {},
   "outputs": [],
   "source": [
    "def compute_gradient(x, y, w, b):\n",
    "    m = x.shape[0]\n",
    "    dj_dw = 0\n",
    "    dj_db = 0\n",
    "    \n",
    "    for i in range(m):\n",
    "        cost = (((w*x[i]) + b) - y[i])\n",
    "        dj_dw += cost * x[i]\n",
    "        dj_db += cost\n",
    "        \n",
    "    dj_dw /= m\n",
    "    dj_db /= m\n",
    "    \n",
    "    return dj_dw, dj_db"
   ]
  },
  {
   "cell_type": "code",
   "execution_count": 22,
   "id": "6183128b",
   "metadata": {},
   "outputs": [],
   "source": [
    "def gradient_descent(x, y, w_in, b_in, alpha, num_iters, gradient_function):\n",
    "    w = w_in\n",
    "    b = b_in\n",
    "\n",
    "    for i in range(num_iters):\n",
    "        dj_dw, dj_db = gradient_function(x, y, w, b)\n",
    "        w = w - alpha*dj_dw\n",
    "        b = b - alpha*dj_db\n",
    "\n",
    "    return w, b"
   ]
  },
  {
   "cell_type": "code",
   "execution_count": 25,
   "id": "cdb7792d",
   "metadata": {},
   "outputs": [],
   "source": [
    "def calculate_scalars(features):\n",
    "    feature_average = np.sum(features)/features.size\n",
    "    feature_range = np.ptp(features)\n",
    "    return feature_average, feature_range\n",
    "\n",
    "def scaled_features(features, feature_average, feature_range):\n",
    "    return (features - feature_average)/feature_range\n",
    "\n",
    "def linear_func(m, x, b):\n",
    "    return m*x + b"
   ]
  },
  {
   "cell_type": "code",
   "execution_count": 28,
   "id": "bfde2cf2",
   "metadata": {},
   "outputs": [
    {
     "data": {
      "text/plain": [
       "<matplotlib.collections.PathCollection at 0x7f26f2991f90>"
      ]
     },
     "execution_count": 28,
     "metadata": {},
     "output_type": "execute_result"
    },
    {
     "data": {
      "image/png": "[encoded data removed]",
      "text/plain": [
       "<Figure size 432x288 with 1 Axes>"
      ]
     },
     "metadata": {
      "needs_background": "light"
     },
     "output_type": "display_data"
    }
   ],
   "source": [
    "house_size = np.array([1.0, 6.0, 7.0, 8.0, 9.0, 2.0, 3.0, 4.0, 5.0])*8\n",
    "house_price = np.array([11.0, 54.0, 71.0, 84.0, 89.0, 18.0, 32.0, 38.0, 55.0])\n",
    "\n",
    "w_init = 0\n",
    "b_init = 0\n",
    "iterations = 1001\n",
    "tmp_alpha = 0.01\n",
    "\n",
    "feature_average, feature_range = calculate_scalars(house_size)\n",
    "scaled_house_size = scaled_features(house_size, feature_average, feature_range)\n",
    "\n",
    "w_final, b_final = gradient_descent(scaled_house_size, house_price, w_init, b_init, tmp_alpha, iterations, compute_gradient)\n",
    "\n",
    "yhats = linear_func(w_final, scaled_house_size, b_final)\n",
    "plt.plot(house_size, yhats)\n",
    "plt.scatter(house_size, house_price)\n",
    "\n",
    "new_house_size = 100\n",
    "scaled_new_house_size = scaled_features(new_house_size, feature_average, feature_range)\n",
    "new_prediction = linear_func(w_final, scaled_new_house_size, b_final)\n",
    "plt.scatter(new_house_size, new_prediction)"
   ]
  }
 ],
 "metadata": {
  "kernelspec": {
   "display_name": "Python 3",
   "language": "python",
   "name": "python3"
  },
  "language_info": {
   "codemirror_mode": {
    "name": "ipython",
    "version": 3
   },
   "file_extension": ".py",
   "mimetype": "text/x-python",
   "name": "python",
   "nbconvert_exporter": "python",
   "pygments_lexer": "ipython3",
   "version": "3.10.12"
  }
 },
 "nbformat": 4,
 "nbformat_minor": 5
}
