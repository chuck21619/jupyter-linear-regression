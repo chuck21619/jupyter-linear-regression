{
 "cells": [
  {
   "cell_type": "code",
   "execution_count": 86,
   "metadata": {},
   "outputs": [],
   "source": [
    "import numpy as np\n",
    "import matplotlib.pyplot as plt\n",
    "\n",
    "np.set_printoptions(precision=2)"
   ]
  },
  {
   "cell_type": "code",
   "execution_count": 87,
   "metadata": {},
   "outputs": [],
   "source": [
    "house_features = np.array([[2104, 5, 1, 45],\n",
    "                           [1416, 3, 2, 40],\n",
    "                           [852, 2, 1, 35]])\n",
    "house_prices = np.array([460, 232, 178])"
   ]
  },
  {
   "cell_type": "code",
   "execution_count": 88,
   "metadata": {},
   "outputs": [],
   "source": [
    "b_init = 785.1811367994083\n",
    "w_init = np.array([ 0.39133535, 18.75376741, -53.36032453, -26.42131618])"
   ]
  },
  {
   "cell_type": "code",
   "execution_count": 89,
   "metadata": {},
   "outputs": [],
   "source": [
    "def predict_single_example_loop(features, weights, bias):\n",
    "    number_of_features = features.shape[0]\n",
    "    yhat = 0\n",
    "    for i in range(number_of_features):\n",
    "        yhat += features[i]*weights[i]\n",
    "    yhat += bias\n",
    "    return yhat"
   ]
  },
  {
   "cell_type": "code",
   "execution_count": 90,
   "metadata": {},
   "outputs": [
    {
     "name": "stdout",
     "output_type": "stream",
     "text": [
      "459.9999976194083\n"
     ]
    }
   ],
   "source": [
    "single_example_features = house_features[0]\n",
    "yhat = predict_single_example_loop(single_example_features, w_init, b_init)\n",
    "print(yhat)"
   ]
  },
  {
   "cell_type": "code",
   "execution_count": 91,
   "metadata": {},
   "outputs": [],
   "source": [
    "def predict_single_example_dot(features, weights, bias):\n",
    "    return np.dot(features, weights) + bias"
   ]
  },
  {
   "cell_type": "code",
   "execution_count": 92,
   "metadata": {},
   "outputs": [
    {
     "name": "stdout",
     "output_type": "stream",
     "text": [
      "459.9999976194083\n"
     ]
    }
   ],
   "source": [
    "single_example_features = house_features[0]\n",
    "yhat = predict_single_example_dot(single_example_features, w_init, b_init)\n",
    "print(yhat)"
   ]
  },
  {
   "cell_type": "code",
   "execution_count": 93,
   "metadata": {},
   "outputs": [],
   "source": [
    "def compute_cost(features, targets, weights, bias):\n",
    "    number_of_examples = features.shape[0]\n",
    "    cost = 0.0\n",
    "    for i in range(number_of_examples):\n",
    "        example_features = features[i]\n",
    "        yhat = predict_single_example_dot(example_features, weights, bias)\n",
    "        cost += (yhat - targets[i])**2\n",
    "    cost /= 2*number_of_examples\n",
    "    return cost"
   ]
  },
  {
   "cell_type": "code",
   "execution_count": 94,
   "metadata": {},
   "outputs": [
    {
     "data": {
      "text/plain": [
       "1.5578904428966628e-12"
      ]
     },
     "execution_count": 94,
     "metadata": {},
     "output_type": "execute_result"
    }
   ],
   "source": [
    "compute_cost(house_features, house_prices, w_init, b_init)"
   ]
  },
  {
   "cell_type": "code",
   "execution_count": 95,
   "metadata": {},
   "outputs": [],
   "source": [
    "def compute_gradient(features, targets, weights, bias):\n",
    "    number_of_examples = features.shape[0]\n",
    "    number_of_features = features.shape[1]\n",
    "    dj_dw = np.zeros(number_of_features)\n",
    "    dj_db = 0.0\n",
    "    for m in range(number_of_examples):\n",
    "        for n in range(number_of_features):\n",
    "            dj_dw[n] += ((np.dot(features[m], weights) + bias) - targets[m]) * features[m][n]\n",
    "        dj_db += ((np.dot(features[m], weights) + bias) - targets[m])\n",
    "\n",
    "    dj_dw /= number_of_examples\n",
    "    dj_db /= number_of_examples\n",
    "\n",
    "    return dj_dw, dj_db"
   ]
  },
  {
   "cell_type": "code",
   "execution_count": 96,
   "metadata": {},
   "outputs": [],
   "source": [
    "def gradient_descent(features, targets, w_in, b_in, alpha, num_iters):\n",
    "    w = w_in\n",
    "    b = b_in\n",
    "    for i in range(num_iters):\n",
    "        tmp_dj_dw, tmp_dj_db = compute_gradient(house_features, house_prices, w, b)\n",
    "        w -= alpha*tmp_dj_dw\n",
    "        b -= alpha*tmp_dj_db\n",
    "    return w, b"
   ]
  },
  {
   "cell_type": "code",
   "execution_count": 97,
   "metadata": {},
   "outputs": [
    {
     "name": "stdout",
     "output_type": "stream",
     "text": [
      "w:[ 0.2   0.   -0.01 -0.07]\n",
      "b:-0.002235407530932535\n"
     ]
    }
   ],
   "source": [
    "w, b = gradient_descent(house_features, house_prices, np.zeros_like(w_init), 0.0, 5.0e-7, 1000)\n",
    "print(f\"w:{w}\")\n",
    "print(f\"b:{b}\")"
   ]
  }
 ],
 "metadata": {
  "kernelspec": {
   "display_name": "Python 3",
   "language": "python",
   "name": "python3"
  },
  "language_info": {
   "codemirror_mode": {
    "name": "ipython",
    "version": 3
   },
   "file_extension": ".py",
   "mimetype": "text/x-python",
   "name": "python",
   "nbconvert_exporter": "python",
   "pygments_lexer": "ipython3",
   "version": "3.10.12"
  }
 },
 "nbformat": 4,
 "nbformat_minor": 2
}
