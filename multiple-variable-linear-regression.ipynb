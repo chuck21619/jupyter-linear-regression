{
 "cells": [
  {
   "cell_type": "code",
   "execution_count": 66,
   "metadata": {},
   "outputs": [],
   "source": [
    "import numpy as np\n",
    "import matplotlib.pyplot as plt\n",
    "np.set_printoptions(precision=2)"
   ]
  },
  {
   "cell_type": "code",
   "execution_count": 51,
   "metadata": {},
   "outputs": [],
   "source": [
    "def compute_gradient(features, targets, weights, bias):\n",
    "    number_of_examples = features.shape[0]\n",
    "    number_of_features = features.shape[1]\n",
    "    dj_dw = np.zeros(number_of_features)\n",
    "    dj_db = 0.0\n",
    "    for m in range(number_of_examples):\n",
    "        for n in range(number_of_features):\n",
    "            dj_dw[n] += ((np.dot(features[m], weights) + bias) - targets[m]) * features[m][n]\n",
    "        dj_db += ((np.dot(features[m], weights) + bias) - targets[m])\n",
    "\n",
    "    dj_dw /= number_of_examples\n",
    "    dj_db /= number_of_examples\n",
    "\n",
    "    return dj_dw, dj_db"
   ]
  },
  {
   "cell_type": "code",
   "execution_count": 89,
   "metadata": {},
   "outputs": [],
   "source": [
    "def gradient_descent(features, targets, w_in, b_in, alpha, num_iters, gradient_function):\n",
    "    w = w_in\n",
    "    b = b_in\n",
    "    for i in range(num_iters):\n",
    "        tmp_dj_dw, tmp_dj_db = gradient_function(features, targets, w, b)\n",
    "        w -= alpha*tmp_dj_dw\n",
    "        b -= alpha*tmp_dj_db\n",
    "    return w, b"
   ]
  },
  {
   "cell_type": "code",
   "execution_count": 78,
   "metadata": {},
   "outputs": [],
   "source": [
    "def calculate_scalars(features):\n",
    "    feature_averages = np.mean(features, axis=0)\n",
    "    feature_ranges = np.ptp(features, axis=0)\n",
    "    return feature_averages, feature_ranges\n",
    "\n",
    "def scaled_features(features, feature_averages, feature_ranges):\n",
    "    return (features - feature_averages)/feature_ranges\n",
    "\n",
    "def predict(m, x, b):\n",
    "    return np.dot(m, x) + b"
   ]
  },
  {
   "cell_type": "code",
   "execution_count": 113,
   "metadata": {},
   "outputs": [
    {
     "name": "stdout",
     "output_type": "stream",
     "text": [
      "w:[ 92.34  99.41 -60.32  89.35]\n",
      "b:289.99\n",
      "prediction:457.69, target:460\n",
      "prediction:235.68, target:232\n",
      "prediction:176.59, target:178\n"
     ]
    }
   ],
   "source": [
    "\n",
    "house_features = np.array([[2104, 5, 1, 45],\n",
    "                           [1416, 3, 2, 40],\n",
    "                           [852, 2, 1, 35]])\n",
    "house_prices = np.array([460, 232, 178])\n",
    "\n",
    "w_init = np.zeros(len(house_features[0]))\n",
    "b_init = 0\n",
    "iterations = 1000\n",
    "tmp_alpha = 0.01\n",
    "\n",
    "feature_averages, feature_ranges = calculate_scalars(house_features)\n",
    "scaled_house_features = scaled_features(house_features, feature_averages, feature_ranges)\n",
    "\n",
    "w_final, b_final = gradient_descent(scaled_house_features, house_prices, w_init, b_init, tmp_alpha, iterations, compute_gradient)\n",
    "print(f\"w:{w_final}\")\n",
    "print(f\"b:{b_final:.2f}\")\n",
    "\n",
    "for i in range(house_features.shape[0]):\n",
    "    print(f\"prediction:{predict(w_final, scaled_house_features[i], b_final):.2f}, target:{house_prices[i]}\")"
   ]
  },
  {
   "cell_type": "code",
   "execution_count": null,
   "metadata": {},
   "outputs": [],
   "source": []
  }
 ],
 "metadata": {
  "kernelspec": {
   "display_name": "Python 3",
   "language": "python",
   "name": "python3"
  },
  "language_info": {
   "codemirror_mode": {
    "name": "ipython",
    "version": 3
   },
   "file_extension": ".py",
   "mimetype": "text/x-python",
   "name": "python",
   "nbconvert_exporter": "python",
   "pygments_lexer": "ipython3",
   "version": "3.10.12"
  }
 },
 "nbformat": 4,
 "nbformat_minor": 2
}
